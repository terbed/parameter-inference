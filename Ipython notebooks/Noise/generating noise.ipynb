{
 "cells": [
  {
   "cell_type": "code",
   "execution_count": 1,
   "metadata": {
    "collapsed": true
   },
   "outputs": [],
   "source": [
    "import numpy as np\n",
    "from numpy.linalg import cholesky"
   ]
  },
  {
   "cell_type": "code",
   "execution_count": 12,
   "metadata": {
    "collapsed": true
   },
   "outputs": [],
   "source": [
    "def cov_mat(f, t_vec):\n",
    "    \"\"\"\n",
    "    Produce the covariance matrix for the given autocorreltion function\n",
    "\n",
    "    :param f: The autocorrelation function of the noise (with fitted parameters)\n",
    "    :param t_vec: The time series vector\n",
    "    :return: The covariance matrix for the given autocorrelation function\n",
    "    \"\"\"\n",
    "\n",
    "    return [[f(abs(t1 - t2)) for t2 in t_vec] for t1 in t_vec]"
   ]
  },
  {
   "cell_type": "code",
   "execution_count": 10,
   "metadata": {
    "collapsed": true
   },
   "outputs": [],
   "source": [
    "def multivariate_normal(vec, t_vec, f):\n",
    "    \"\"\"\n",
    "    Create a noise sampled from multivariate gaussian.\n",
    "    When the autocorrelation function of the noise is known.\n",
    "\n",
    "    :param vec: noise will be added to this vector\n",
    "    :param t_vec: The time series vector (noise is correlated in time)\n",
    "    :param f: The autocorrelation function of the noise (with fitted parameters)\n",
    "    :return: vec with noise\n",
    "    \"\"\"\n",
    "\n",
    "    # Generate noise sampled from standard normal pdf\n",
    "    noise = np.random.normal(size=len(vec))\n",
    "\n",
    "    # Decompose covariance matrix\n",
    "    # And return noise with given correlation\n",
    "    covmat = cov_mat(f=f, t_vec=t_vec)\n",
    "    return np.dot(cholesky(covmat), noise)"
   ]
  },
  {
   "cell_type": "code",
   "execution_count": 6,
   "metadata": {
    "collapsed": false
   },
   "outputs": [
    {
     "data": {
      "text/plain": [
       "1"
      ]
     },
     "execution_count": 6,
     "metadata": {},
     "output_type": "execute_result"
    }
   ],
   "source": [
    "from neuron import h, gui\n",
    "\n",
    "def exp_model(Ra=157.3621, gpas=0.000403860792, cm=7.849480, dt=0.1):\n",
    "    # -- Biophysics --\n",
    "    # Sec parameters and conductance\n",
    "    for sec in h.allsec():\n",
    "        sec.Ra = Ra  # Ra is a parameter to infer\n",
    "        sec.cm = cm   # parameter optimisation algorithm found this\n",
    "        sec.v = 0\n",
    "\n",
    "        sec.insert('pas')\n",
    "        sec.g_pas = gpas  # gpas is a parameter to infer\n",
    "        sec.e_pas = 0\n",
    "\n",
    "    # Print information\n",
    "    #h.psection()\n",
    "\n",
    "    # Stimulus\n",
    "    stim1 = h.IClamp(h.soma(0.01))\n",
    "    stim1.delay = 200\n",
    "    stim1.amp = 0.5\n",
    "    stim1.dur = 2.9\n",
    "\n",
    "    stim2 = h.IClamp(h.soma(0.01))\n",
    "    stim2.delay = 503\n",
    "    stim2.amp = 0.01\n",
    "    stim2.dur = 599.9\n",
    "\n",
    "    # Run simulation ->\n",
    "    # Set up recording Vectors\n",
    "    v_vec = h.Vector()  # Membrane potential vector\n",
    "    t_vec = h.Vector()  # Time stamp vector\n",
    "    v_vec.record(h.soma(0.5)._ref_v)\n",
    "    t_vec.record(h._ref_t)\n",
    "\n",
    "    # Simulation duration and RUN\n",
    "    h.tstop = 1200  # Simulation end\n",
    "    h.dt = dt  # Time step (iteration)\n",
    "    h.steps_per_ms = 1 / dt\n",
    "    h.v_init = 0\n",
    "    h.finitialize(h.v_init)\n",
    "\n",
    "    h.init()\n",
    "    h.run()\n",
    "\n",
    "    t = t_vec.to_python()\n",
    "    v = v_vec.to_python()\n",
    "\n",
    "    return t, v\n",
    "\n",
    "\n",
    "# --- Load NEURON morphology\n",
    "h('load_file(\"/Users/Dani/TDK/parameter_estim/exp/morphology_131117-C2.hoc\")')\n",
    "# Set the appropriate \"nseg\"\n",
    "for sec in h.allsec():\n",
    "    sec.Ra = 160\n",
    "h('forall {nseg = int((L/(0.1*lambda_f(100))+.9)/2)*2 + 1}')  # If Ra_max = 105 dend.nseg = 21 and soma.nseg = 1"
   ]
  },
  {
   "cell_type": "code",
   "execution_count": 7,
   "metadata": {
    "collapsed": true
   },
   "outputs": [],
   "source": [
    "t, v = exp_model()"
   ]
  },
  {
   "cell_type": "code",
   "execution_count": 18,
   "metadata": {
    "collapsed": true
   },
   "outputs": [],
   "source": [
    "from math import exp\n",
    "def autocorrelation_function(x):\n",
    "    D = 4.55090676e-01\n",
    "    lamb = 2.82009826e-02\n",
    "    A = 5.89036519e-03\n",
    "    mu = 1.28340772e+02\n",
    "    sig = 7.38233398e+01\n",
    "    return D*lamb*exp(-lamb*abs(x)) - A*exp(-(abs(x)-mu)**2/(2*sig**2))"
   ]
  },
  {
   "cell_type": "code",
   "execution_count": 19,
   "metadata": {
    "collapsed": false
   },
   "outputs": [
    {
     "ename": "LinAlgError",
     "evalue": "Matrix is not positive definite",
     "output_type": "error",
     "traceback": [
      "\u001b[0;31m---------------------------------------------------------------------------\u001b[0m",
      "\u001b[0;31mLinAlgError\u001b[0m                               Traceback (most recent call last)",
      "\u001b[0;32m<ipython-input-19-d5d17db7d22b>\u001b[0m in \u001b[0;36m<module>\u001b[0;34m()\u001b[0m\n\u001b[0;32m----> 1\u001b[0;31m \u001b[0mv_noised\u001b[0m \u001b[0;34m=\u001b[0m \u001b[0mmultivariate_normal\u001b[0m\u001b[0;34m(\u001b[0m\u001b[0mv\u001b[0m\u001b[0;34m,\u001b[0m \u001b[0mt\u001b[0m\u001b[0;34m,\u001b[0m \u001b[0mautocorrelation_function\u001b[0m\u001b[0;34m)\u001b[0m\u001b[0;34m\u001b[0m\u001b[0m\n\u001b[0m",
      "\u001b[0;32m<ipython-input-10-f23d599bdfa6>\u001b[0m in \u001b[0;36mmultivariate_normal\u001b[0;34m(vec, t_vec, f)\u001b[0m\n\u001b[1;32m     16\u001b[0m     \u001b[0;31m# And return noise with given correlation\u001b[0m\u001b[0;34m\u001b[0m\u001b[0;34m\u001b[0m\u001b[0m\n\u001b[1;32m     17\u001b[0m     \u001b[0mcovmat\u001b[0m \u001b[0;34m=\u001b[0m \u001b[0mcov_mat\u001b[0m\u001b[0;34m(\u001b[0m\u001b[0mf\u001b[0m\u001b[0;34m=\u001b[0m\u001b[0mf\u001b[0m\u001b[0;34m,\u001b[0m \u001b[0mt_vec\u001b[0m\u001b[0;34m=\u001b[0m\u001b[0mt_vec\u001b[0m\u001b[0;34m)\u001b[0m\u001b[0;34m\u001b[0m\u001b[0m\n\u001b[0;32m---> 18\u001b[0;31m     \u001b[0;32mreturn\u001b[0m \u001b[0mnp\u001b[0m\u001b[0;34m.\u001b[0m\u001b[0mdot\u001b[0m\u001b[0;34m(\u001b[0m\u001b[0mcholesky\u001b[0m\u001b[0;34m(\u001b[0m\u001b[0mcovmat\u001b[0m\u001b[0;34m)\u001b[0m\u001b[0;34m,\u001b[0m \u001b[0mnoise\u001b[0m\u001b[0;34m)\u001b[0m\u001b[0;34m\u001b[0m\u001b[0m\n\u001b[0m",
      "\u001b[0;32m/usr/local/lib/python2.7/site-packages/numpy/linalg/linalg.pyc\u001b[0m in \u001b[0;36mcholesky\u001b[0;34m(a)\u001b[0m\n\u001b[1;32m    610\u001b[0m     \u001b[0mt\u001b[0m\u001b[0;34m,\u001b[0m \u001b[0mresult_t\u001b[0m \u001b[0;34m=\u001b[0m \u001b[0m_commonType\u001b[0m\u001b[0;34m(\u001b[0m\u001b[0ma\u001b[0m\u001b[0;34m)\u001b[0m\u001b[0;34m\u001b[0m\u001b[0m\n\u001b[1;32m    611\u001b[0m     \u001b[0msignature\u001b[0m \u001b[0;34m=\u001b[0m \u001b[0;34m'D->D'\u001b[0m \u001b[0;32mif\u001b[0m \u001b[0misComplexType\u001b[0m\u001b[0;34m(\u001b[0m\u001b[0mt\u001b[0m\u001b[0;34m)\u001b[0m \u001b[0;32melse\u001b[0m \u001b[0;34m'd->d'\u001b[0m\u001b[0;34m\u001b[0m\u001b[0m\n\u001b[0;32m--> 612\u001b[0;31m     \u001b[0mr\u001b[0m \u001b[0;34m=\u001b[0m \u001b[0mgufunc\u001b[0m\u001b[0;34m(\u001b[0m\u001b[0ma\u001b[0m\u001b[0;34m,\u001b[0m \u001b[0msignature\u001b[0m\u001b[0;34m=\u001b[0m\u001b[0msignature\u001b[0m\u001b[0;34m,\u001b[0m \u001b[0mextobj\u001b[0m\u001b[0;34m=\u001b[0m\u001b[0mextobj\u001b[0m\u001b[0;34m)\u001b[0m\u001b[0;34m\u001b[0m\u001b[0m\n\u001b[0m\u001b[1;32m    613\u001b[0m     \u001b[0;32mreturn\u001b[0m \u001b[0mwrap\u001b[0m\u001b[0;34m(\u001b[0m\u001b[0mr\u001b[0m\u001b[0;34m.\u001b[0m\u001b[0mastype\u001b[0m\u001b[0;34m(\u001b[0m\u001b[0mresult_t\u001b[0m\u001b[0;34m,\u001b[0m \u001b[0mcopy\u001b[0m\u001b[0;34m=\u001b[0m\u001b[0mFalse\u001b[0m\u001b[0;34m)\u001b[0m\u001b[0;34m)\u001b[0m\u001b[0;34m\u001b[0m\u001b[0m\n\u001b[1;32m    614\u001b[0m \u001b[0;34m\u001b[0m\u001b[0m\n",
      "\u001b[0;32m/usr/local/lib/python2.7/site-packages/numpy/linalg/linalg.pyc\u001b[0m in \u001b[0;36m_raise_linalgerror_nonposdef\u001b[0;34m(err, flag)\u001b[0m\n\u001b[1;32m     91\u001b[0m \u001b[0;34m\u001b[0m\u001b[0m\n\u001b[1;32m     92\u001b[0m \u001b[0;32mdef\u001b[0m \u001b[0m_raise_linalgerror_nonposdef\u001b[0m\u001b[0;34m(\u001b[0m\u001b[0merr\u001b[0m\u001b[0;34m,\u001b[0m \u001b[0mflag\u001b[0m\u001b[0;34m)\u001b[0m\u001b[0;34m:\u001b[0m\u001b[0;34m\u001b[0m\u001b[0m\n\u001b[0;32m---> 93\u001b[0;31m     \u001b[0;32mraise\u001b[0m \u001b[0mLinAlgError\u001b[0m\u001b[0;34m(\u001b[0m\u001b[0;34m\"Matrix is not positive definite\"\u001b[0m\u001b[0;34m)\u001b[0m\u001b[0;34m\u001b[0m\u001b[0m\n\u001b[0m\u001b[1;32m     94\u001b[0m \u001b[0;34m\u001b[0m\u001b[0m\n\u001b[1;32m     95\u001b[0m \u001b[0;32mdef\u001b[0m \u001b[0m_raise_linalgerror_eigenvalues_nonconvergence\u001b[0m\u001b[0;34m(\u001b[0m\u001b[0merr\u001b[0m\u001b[0;34m,\u001b[0m \u001b[0mflag\u001b[0m\u001b[0;34m)\u001b[0m\u001b[0;34m:\u001b[0m\u001b[0;34m\u001b[0m\u001b[0m\n",
      "\u001b[0;31mLinAlgError\u001b[0m: Matrix is not positive definite"
     ]
    }
   ],
   "source": [
    "v_noised = multivariate_normal(v, t, autocorrelation_function)"
   ]
  },
  {
   "cell_type": "code",
   "execution_count": null,
   "metadata": {
    "collapsed": true
   },
   "outputs": [],
   "source": []
  }
 ],
 "metadata": {
  "kernelspec": {
   "display_name": "Python 2",
   "language": "python",
   "name": "python2"
  },
  "language_info": {
   "codemirror_mode": {
    "name": "ipython",
    "version": 2
   },
   "file_extension": ".py",
   "mimetype": "text/x-python",
   "name": "python",
   "nbconvert_exporter": "python",
   "pygments_lexer": "ipython2",
   "version": "2.7.11"
  }
 },
 "nbformat": 4,
 "nbformat_minor": 0
}
